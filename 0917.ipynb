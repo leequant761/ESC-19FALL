{
 "cells": [
  {
   "cell_type": "markdown",
   "metadata": {},
   "source": [
    "# Bayesian inference for all-nighters problem"
   ]
  },
  {
   "cell_type": "markdown",
   "metadata": {},
   "source": [
    "#### Data model : Binomial\n",
    "#### Prior : discrete\n",
    "\n",
    "#### `목표` : 위의 setting에서 posterior distribution을 구해보자"
   ]
  },
  {
   "cell_type": "code",
   "execution_count": 1,
   "metadata": {},
   "outputs": [],
   "source": [
    "# install.packages('ggplot2')"
   ]
  },
  {
   "cell_type": "code",
   "execution_count": 2,
   "metadata": {},
   "outputs": [],
   "source": [
    "priorvalues = c(0, .1, .2, .3, .4, .5, .6, .7, .8, .9, 1)\n",
    "priorprob = c(0, 0, .1, .1, .2, .2, .2, .1, .1, 0, 0)\n",
    "\n",
    "n = 10\n",
    "y = 7"
   ]
  },
  {
   "cell_type": "markdown",
   "metadata": {},
   "source": [
    "$\\operatorname{pr} (p|y) \\propto \\operatorname{pr}(p) \\times \\operatorname{pr}(y; n, p)$\n",
    "\n",
    "> posterior distribution은 사전 확률과 sampling probability의 곱인 joint distribution에 비례한다."
   ]
  },
  {
   "cell_type": "code",
   "execution_count": 3,
   "metadata": {},
   "outputs": [],
   "source": [
    "#vector for storing results\n",
    "jointprob = numeric(length = length(priorvalues)) # 0 0 0 0 0 0 0 0 0 0 0\n",
    "for(i in 1:length(priorvalues)) {\n",
    "    #compute binomial probability given value of p\n",
    "    binomprob = dbinom(y, n, p = priorvalues[i])\n",
    "\n",
    "    #compute joint probability\n",
    "    jointprob[i] = binomprob * priorprob[i]\n",
    "}"
   ]
  },
  {
   "cell_type": "code",
   "execution_count": 4,
   "metadata": {},
   "outputs": [
    {
     "data": {
      "text/html": [
       "<ol class=list-inline>\n",
       "\t<li>0</li>\n",
       "\t<li>0</li>\n",
       "\t<li>7.86432e-05</li>\n",
       "\t<li>0.000900169199999999</li>\n",
       "\t<li>0.0084934656</li>\n",
       "\t<li>0.0234375</li>\n",
       "\t<li>0.0429981696</li>\n",
       "\t<li>0.0266827932</li>\n",
       "\t<li>0.0201326592</li>\n",
       "\t<li>0</li>\n",
       "\t<li>0</li>\n",
       "</ol>\n"
      ],
      "text/latex": [
       "\\begin{enumerate*}\n",
       "\\item 0\n",
       "\\item 0\n",
       "\\item 7.86432e-05\n",
       "\\item 0.000900169199999999\n",
       "\\item 0.0084934656\n",
       "\\item 0.0234375\n",
       "\\item 0.0429981696\n",
       "\\item 0.0266827932\n",
       "\\item 0.0201326592\n",
       "\\item 0\n",
       "\\item 0\n",
       "\\end{enumerate*}\n"
      ],
      "text/markdown": [
       "1. 0\n",
       "2. 0\n",
       "3. 7.86432e-05\n",
       "4. 0.000900169199999999\n",
       "5. 0.0084934656\n",
       "6. 0.0234375\n",
       "7. 0.0429981696\n",
       "8. 0.0266827932\n",
       "9. 0.0201326592\n",
       "10. 0\n",
       "11. 0\n",
       "\n",
       "\n"
      ],
      "text/plain": [
       " [1] 0.0000000000 0.0000000000 0.0000786432 0.0009001692 0.0084934656\n",
       " [6] 0.0234375000 0.0429981696 0.0266827932 0.0201326592 0.0000000000\n",
       "[11] 0.0000000000"
      ]
     },
     "metadata": {},
     "output_type": "display_data"
    }
   ],
   "source": [
    "jointprob"
   ]
  },
  {
   "cell_type": "code",
   "execution_count": null,
   "metadata": {},
   "outputs": [],
   "source": []
  },
  {
   "cell_type": "markdown",
   "metadata": {},
   "source": [
    "$\\operatorname{pr}(p|y) = \\frac{\\operatorname{pr}(p) \\times \\operatorname{pr}(y; n, p)} {p(y)}$\n",
    "\n",
    "> posterior distribution은 joint distribution에 marginal prob을 나눠주면 된다."
   ]
  },
  {
   "cell_type": "code",
   "execution_count": 5,
   "metadata": {},
   "outputs": [],
   "source": [
    "#compute marginal probability of y\n",
    "pofy = sum(jointprob)\n",
    "\n",
    "#compute posterior probabilities\n",
    "posteriorprob = jointprob/pofy"
   ]
  },
  {
   "cell_type": "code",
   "execution_count": 6,
   "metadata": {},
   "outputs": [
    {
     "data": {
      "text/html": [
       "<ol class=list-inline>\n",
       "\t<li>0</li>\n",
       "\t<li>0</li>\n",
       "\t<li>0.000640816665770342</li>\n",
       "\t<li>0.00733494345821578</li>\n",
       "\t<li>0.0692081999031969</li>\n",
       "\t<li>0.190978248646958</li>\n",
       "\t<li>0.350366512009935</li>\n",
       "\t<li>0.217422212878717</li>\n",
       "\t<li>0.164049066437207</li>\n",
       "\t<li>0</li>\n",
       "\t<li>0</li>\n",
       "</ol>\n"
      ],
      "text/latex": [
       "\\begin{enumerate*}\n",
       "\\item 0\n",
       "\\item 0\n",
       "\\item 0.000640816665770342\n",
       "\\item 0.00733494345821578\n",
       "\\item 0.0692081999031969\n",
       "\\item 0.190978248646958\n",
       "\\item 0.350366512009935\n",
       "\\item 0.217422212878717\n",
       "\\item 0.164049066437207\n",
       "\\item 0\n",
       "\\item 0\n",
       "\\end{enumerate*}\n"
      ],
      "text/markdown": [
       "1. 0\n",
       "2. 0\n",
       "3. 0.000640816665770342\n",
       "4. 0.00733494345821578\n",
       "5. 0.0692081999031969\n",
       "6. 0.190978248646958\n",
       "7. 0.350366512009935\n",
       "8. 0.217422212878717\n",
       "9. 0.164049066437207\n",
       "10. 0\n",
       "11. 0\n",
       "\n",
       "\n"
      ],
      "text/plain": [
       " [1] 0.0000000000 0.0000000000 0.0006408167 0.0073349435 0.0692081999\n",
       " [6] 0.1909782486 0.3503665120 0.2174222129 0.1640490664 0.0000000000\n",
       "[11] 0.0000000000"
      ]
     },
     "metadata": {},
     "output_type": "display_data"
    }
   ],
   "source": [
    "posteriorprob"
   ]
  },
  {
   "cell_type": "code",
   "execution_count": null,
   "metadata": {},
   "outputs": [],
   "source": []
  },
  {
   "cell_type": "markdown",
   "metadata": {},
   "source": [
    "사전 확률과 사후 확률을 비교하여 우리의 믿음이 어떻게 변했는 지 그리고 싶다.\n",
    "\n",
    "`참고` : ggplot은 tidy한 dataset을 요구하므로 그 형태에 맞춰보자"
   ]
  },
  {
   "cell_type": "code",
   "execution_count": 7,
   "metadata": {},
   "outputs": [
    {
     "data": {
      "text/html": [
       "<table>\n",
       "<thead><tr><th scope=col>p_candidate</th><th scope=col>prior</th><th scope=col>posterior</th></tr></thead>\n",
       "<tbody>\n",
       "\t<tr><td>0.0         </td><td>0.0         </td><td>0.0000000000</td></tr>\n",
       "\t<tr><td>0.1         </td><td>0.0         </td><td>0.0000000000</td></tr>\n",
       "\t<tr><td>0.2         </td><td>0.1         </td><td>0.0006408167</td></tr>\n",
       "\t<tr><td>0.3         </td><td>0.1         </td><td>0.0073349435</td></tr>\n",
       "\t<tr><td>0.4         </td><td>0.2         </td><td>0.0692081999</td></tr>\n",
       "\t<tr><td>0.5         </td><td>0.2         </td><td>0.1909782486</td></tr>\n",
       "\t<tr><td>0.6         </td><td>0.2         </td><td>0.3503665120</td></tr>\n",
       "\t<tr><td>0.7         </td><td>0.1         </td><td>0.2174222129</td></tr>\n",
       "\t<tr><td>0.8         </td><td>0.1         </td><td>0.1640490664</td></tr>\n",
       "\t<tr><td>0.9         </td><td>0.0         </td><td>0.0000000000</td></tr>\n",
       "\t<tr><td>1.0         </td><td>0.0         </td><td>0.0000000000</td></tr>\n",
       "</tbody>\n",
       "</table>\n"
      ],
      "text/latex": [
       "\\begin{tabular}{r|lll}\n",
       " p\\_candidate & prior & posterior\\\\\n",
       "\\hline\n",
       "\t 0.0          & 0.0          & 0.0000000000\\\\\n",
       "\t 0.1          & 0.0          & 0.0000000000\\\\\n",
       "\t 0.2          & 0.1          & 0.0006408167\\\\\n",
       "\t 0.3          & 0.1          & 0.0073349435\\\\\n",
       "\t 0.4          & 0.2          & 0.0692081999\\\\\n",
       "\t 0.5          & 0.2          & 0.1909782486\\\\\n",
       "\t 0.6          & 0.2          & 0.3503665120\\\\\n",
       "\t 0.7          & 0.1          & 0.2174222129\\\\\n",
       "\t 0.8          & 0.1          & 0.1640490664\\\\\n",
       "\t 0.9          & 0.0          & 0.0000000000\\\\\n",
       "\t 1.0          & 0.0          & 0.0000000000\\\\\n",
       "\\end{tabular}\n"
      ],
      "text/markdown": [
       "\n",
       "| p_candidate | prior | posterior |\n",
       "|---|---|---|\n",
       "| 0.0          | 0.0          | 0.0000000000 |\n",
       "| 0.1          | 0.0          | 0.0000000000 |\n",
       "| 0.2          | 0.1          | 0.0006408167 |\n",
       "| 0.3          | 0.1          | 0.0073349435 |\n",
       "| 0.4          | 0.2          | 0.0692081999 |\n",
       "| 0.5          | 0.2          | 0.1909782486 |\n",
       "| 0.6          | 0.2          | 0.3503665120 |\n",
       "| 0.7          | 0.1          | 0.2174222129 |\n",
       "| 0.8          | 0.1          | 0.1640490664 |\n",
       "| 0.9          | 0.0          | 0.0000000000 |\n",
       "| 1.0          | 0.0          | 0.0000000000 |\n",
       "\n"
      ],
      "text/plain": [
       "   p_candidate prior posterior   \n",
       "1  0.0         0.0   0.0000000000\n",
       "2  0.1         0.0   0.0000000000\n",
       "3  0.2         0.1   0.0006408167\n",
       "4  0.3         0.1   0.0073349435\n",
       "5  0.4         0.2   0.0692081999\n",
       "6  0.5         0.2   0.1909782486\n",
       "7  0.6         0.2   0.3503665120\n",
       "8  0.7         0.1   0.2174222129\n",
       "9  0.8         0.1   0.1640490664\n",
       "10 0.9         0.0   0.0000000000\n",
       "11 1.0         0.0   0.0000000000"
      ]
     },
     "metadata": {},
     "output_type": "display_data"
    }
   ],
   "source": [
    "library(tidyr)\n",
    "allnighterposterior <- data.frame(p_candidate=priorvalues, prior=priorprob, posterior=posteriorprob)\n",
    "allnighterposterior"
   ]
  },
  {
   "cell_type": "code",
   "execution_count": 8,
   "metadata": {},
   "outputs": [
    {
     "data": {
      "text/html": [
       "<table>\n",
       "<thead><tr><th scope=col>p_candidate</th><th scope=col>prob_type</th><th scope=col>probability</th></tr></thead>\n",
       "<tbody>\n",
       "\t<tr><td>0.0         </td><td>prior       </td><td>0.0000000000</td></tr>\n",
       "\t<tr><td>0.1         </td><td>prior       </td><td>0.0000000000</td></tr>\n",
       "\t<tr><td>0.2         </td><td>prior       </td><td>0.1000000000</td></tr>\n",
       "\t<tr><td>0.3         </td><td>prior       </td><td>0.1000000000</td></tr>\n",
       "\t<tr><td>0.4         </td><td>prior       </td><td>0.2000000000</td></tr>\n",
       "\t<tr><td>0.5         </td><td>prior       </td><td>0.2000000000</td></tr>\n",
       "\t<tr><td>0.6         </td><td>prior       </td><td>0.2000000000</td></tr>\n",
       "\t<tr><td>0.7         </td><td>prior       </td><td>0.1000000000</td></tr>\n",
       "\t<tr><td>0.8         </td><td>prior       </td><td>0.1000000000</td></tr>\n",
       "\t<tr><td>0.9         </td><td>prior       </td><td>0.0000000000</td></tr>\n",
       "\t<tr><td>1.0         </td><td>prior       </td><td>0.0000000000</td></tr>\n",
       "\t<tr><td>0.0         </td><td>posterior   </td><td>0.0000000000</td></tr>\n",
       "\t<tr><td>0.1         </td><td>posterior   </td><td>0.0000000000</td></tr>\n",
       "\t<tr><td>0.2         </td><td>posterior   </td><td>0.0006408167</td></tr>\n",
       "\t<tr><td>0.3         </td><td>posterior   </td><td>0.0073349435</td></tr>\n",
       "\t<tr><td>0.4         </td><td>posterior   </td><td>0.0692081999</td></tr>\n",
       "\t<tr><td>0.5         </td><td>posterior   </td><td>0.1909782486</td></tr>\n",
       "\t<tr><td>0.6         </td><td>posterior   </td><td>0.3503665120</td></tr>\n",
       "\t<tr><td>0.7         </td><td>posterior   </td><td>0.2174222129</td></tr>\n",
       "\t<tr><td>0.8         </td><td>posterior   </td><td>0.1640490664</td></tr>\n",
       "\t<tr><td>0.9         </td><td>posterior   </td><td>0.0000000000</td></tr>\n",
       "\t<tr><td>1.0         </td><td>posterior   </td><td>0.0000000000</td></tr>\n",
       "</tbody>\n",
       "</table>\n"
      ],
      "text/latex": [
       "\\begin{tabular}{r|lll}\n",
       " p\\_candidate & prob\\_type & probability\\\\\n",
       "\\hline\n",
       "\t 0.0          & prior        & 0.0000000000\\\\\n",
       "\t 0.1          & prior        & 0.0000000000\\\\\n",
       "\t 0.2          & prior        & 0.1000000000\\\\\n",
       "\t 0.3          & prior        & 0.1000000000\\\\\n",
       "\t 0.4          & prior        & 0.2000000000\\\\\n",
       "\t 0.5          & prior        & 0.2000000000\\\\\n",
       "\t 0.6          & prior        & 0.2000000000\\\\\n",
       "\t 0.7          & prior        & 0.1000000000\\\\\n",
       "\t 0.8          & prior        & 0.1000000000\\\\\n",
       "\t 0.9          & prior        & 0.0000000000\\\\\n",
       "\t 1.0          & prior        & 0.0000000000\\\\\n",
       "\t 0.0          & posterior    & 0.0000000000\\\\\n",
       "\t 0.1          & posterior    & 0.0000000000\\\\\n",
       "\t 0.2          & posterior    & 0.0006408167\\\\\n",
       "\t 0.3          & posterior    & 0.0073349435\\\\\n",
       "\t 0.4          & posterior    & 0.0692081999\\\\\n",
       "\t 0.5          & posterior    & 0.1909782486\\\\\n",
       "\t 0.6          & posterior    & 0.3503665120\\\\\n",
       "\t 0.7          & posterior    & 0.2174222129\\\\\n",
       "\t 0.8          & posterior    & 0.1640490664\\\\\n",
       "\t 0.9          & posterior    & 0.0000000000\\\\\n",
       "\t 1.0          & posterior    & 0.0000000000\\\\\n",
       "\\end{tabular}\n"
      ],
      "text/markdown": [
       "\n",
       "| p_candidate | prob_type | probability |\n",
       "|---|---|---|\n",
       "| 0.0          | prior        | 0.0000000000 |\n",
       "| 0.1          | prior        | 0.0000000000 |\n",
       "| 0.2          | prior        | 0.1000000000 |\n",
       "| 0.3          | prior        | 0.1000000000 |\n",
       "| 0.4          | prior        | 0.2000000000 |\n",
       "| 0.5          | prior        | 0.2000000000 |\n",
       "| 0.6          | prior        | 0.2000000000 |\n",
       "| 0.7          | prior        | 0.1000000000 |\n",
       "| 0.8          | prior        | 0.1000000000 |\n",
       "| 0.9          | prior        | 0.0000000000 |\n",
       "| 1.0          | prior        | 0.0000000000 |\n",
       "| 0.0          | posterior    | 0.0000000000 |\n",
       "| 0.1          | posterior    | 0.0000000000 |\n",
       "| 0.2          | posterior    | 0.0006408167 |\n",
       "| 0.3          | posterior    | 0.0073349435 |\n",
       "| 0.4          | posterior    | 0.0692081999 |\n",
       "| 0.5          | posterior    | 0.1909782486 |\n",
       "| 0.6          | posterior    | 0.3503665120 |\n",
       "| 0.7          | posterior    | 0.2174222129 |\n",
       "| 0.8          | posterior    | 0.1640490664 |\n",
       "| 0.9          | posterior    | 0.0000000000 |\n",
       "| 1.0          | posterior    | 0.0000000000 |\n",
       "\n"
      ],
      "text/plain": [
       "   p_candidate prob_type probability \n",
       "1  0.0         prior     0.0000000000\n",
       "2  0.1         prior     0.0000000000\n",
       "3  0.2         prior     0.1000000000\n",
       "4  0.3         prior     0.1000000000\n",
       "5  0.4         prior     0.2000000000\n",
       "6  0.5         prior     0.2000000000\n",
       "7  0.6         prior     0.2000000000\n",
       "8  0.7         prior     0.1000000000\n",
       "9  0.8         prior     0.1000000000\n",
       "10 0.9         prior     0.0000000000\n",
       "11 1.0         prior     0.0000000000\n",
       "12 0.0         posterior 0.0000000000\n",
       "13 0.1         posterior 0.0000000000\n",
       "14 0.2         posterior 0.0006408167\n",
       "15 0.3         posterior 0.0073349435\n",
       "16 0.4         posterior 0.0692081999\n",
       "17 0.5         posterior 0.1909782486\n",
       "18 0.6         posterior 0.3503665120\n",
       "19 0.7         posterior 0.2174222129\n",
       "20 0.8         posterior 0.1640490664\n",
       "21 0.9         posterior 0.0000000000\n",
       "22 1.0         posterior 0.0000000000"
      ]
     },
     "metadata": {},
     "output_type": "display_data"
    }
   ],
   "source": [
    "allnighterposterior <- allnighterposterior %>% gather(prob_type, probability, c('prior', 'posterior'))\n",
    "allnighterposterior"
   ]
  },
  {
   "cell_type": "code",
   "execution_count": 9,
   "metadata": {},
   "outputs": [
    {
     "name": "stderr",
     "output_type": "stream",
     "text": [
      "Registered S3 methods overwritten by 'ggplot2':\n",
      "  method         from \n",
      "  [.quosures     rlang\n",
      "  c.quosures     rlang\n",
      "  print.quosures rlang\n"
     ]
    },
    {
     "data": {
      "image/png": "[encoded data removed]",
      "text/plain": [
       "plot without title"
      ]
     },
     "metadata": {},
     "output_type": "display_data"
    }
   ],
   "source": [
    "library(ggplot2)\n",
    "ggplot(data=allnighterposterior, aes(x=p_candidate, y=probability, fill=prob_type)) + \n",
    "    geom_bar(stat='identity', alpha=0.5, position='dodge')"
   ]
  }
 ],
 "metadata": {
  "kernelspec": {
   "display_name": "R",
   "language": "R",
   "name": "ir"
  },
  "language_info": {
   "codemirror_mode": "r",
   "file_extension": ".r",
   "mimetype": "text/x-r-source",
   "name": "R",
   "pygments_lexer": "r",
   "version": "3.6.0"
  }
 },
 "nbformat": 4,
 "nbformat_minor": 2
}
